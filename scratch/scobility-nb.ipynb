{
 "cells": [
  {
   "cell_type": "code",
   "execution_count": null,
   "metadata": {},
   "outputs": [],
   "source": [
    "import json\n",
    "import glob\n",
    "import os\n",
    "from functools import reduce\n",
    "\n",
    "import numpy as np\n",
    "from matplotlib import pyplot as plt\n",
    "\n",
    "from enum import IntEnum\n",
    "from dataclasses import dataclass, field\n",
    "from typing import List\n",
    "from copy import deepcopy\n",
    "\n",
    "from scobility import *"
   ]
  },
  {
   "cell_type": "code",
   "execution_count": null,
   "metadata": {},
   "outputs": [],
   "source": [
    "itl = process_itl()"
   ]
  },
  {
   "cell_type": "code",
   "execution_count": null,
   "metadata": {},
   "outputs": [],
   "source": [
    "itl.view_scobility()"
   ]
  },
  {
   "cell_type": "code",
   "execution_count": null,
   "metadata": {},
   "outputs": [],
   "source": [
    "p = itl.players[274]\n",
    "scores = 1 - np.array([(s.s_id in p.scores and p.scores[s.s_id].value or np.nan) for s in itl.ordering]) * Relationship.SCORE_SCALAR\n",
    "\n",
    "p_bility = np.log2(itl.scobility)\n",
    "p_scores = np.log2(0.001 + scores)\n",
    "\n",
    "# data = np.vstack([itl.scobility, scores])\n",
    "fig, ax = plt.subplots(1, 2, figsize=(12, 6))\n",
    "ax[0].scatter(p_bility, p_scores)\n",
    "ax[1].scatter(itl.scobility, scores)\n",
    "#ax.set_ylim(0, 0.02)\n",
    "plt.show()\n",
    "    "
   ]
  },
  {
   "cell_type": "code",
   "execution_count": null,
   "metadata": {},
   "outputs": [],
   "source": [
    "e_id = 321\n",
    "p = itl.players[e_id]\n",
    "scores = 1 - np.array([(s.s_id in p.scores and p.scores[s.s_id].value or np.nan) for s in itl.ordering]) * Relationship.SCORE_SCALAR\n",
    "\n",
    "p_bility = np.log2(itl.scobility)\n",
    "p_scores = np.log2(0.003 + scores)      # TODO: tune the offset from perfect\n",
    "\n",
    "p_data = np.vstack([p_bility, p_scores])\n",
    "\n",
    "# plotting is funny\n",
    "z = np.sort(p_data, axis=-1)\n",
    "\n",
    "# slope of line thru 0 as a starting point?\n",
    "p_played = ~np.isnan(p_scores)\n",
    "a = p_bility[p_played]\n",
    "b = p_bility[p_played] - p_scores[p_played]\n",
    "w = a # np.ones_like(a) # 1 - 1/(a + Relationship.WEIGHT_OFFSET)**2\n",
    "m = np.vstack([np.ones_like(a), a])\n",
    "coefs, resid = np.linalg.lstsq(m.T * w[:, np.newaxis], b * w, rcond=None)[:2]\n",
    "b_eq = coefs @ m\n",
    "\n",
    "# print([s.s_id for s in itl.ordering])\n",
    "# print(p_bility)\n",
    "# print(p_scores)\n",
    "print(coefs)\n",
    "\n",
    "fig, ax = plt.subplots(figsize=(6, 6))\n",
    "plt.plot(a, b_eq, 'r')\n",
    "plt.scatter(a, b)\n",
    "#ax.set_ylim(0, 0.02)\n",
    "plt.show()\n",
    "\n",
    "p_quality = p_bility[p_played] - p_scores[p_played]\n",
    "p_songs = np.array(itl.ordering)[p_played]\n",
    "p_ranking = [z for z in zip([s for s in p_songs], [q for q in p_quality])]\n",
    "p_ranking.sort(key=lambda x: x[1])\n",
    "\n",
    "scobility_overall = sum(p_quality) / len(p_quality)\n",
    "print(f'Funny Summary Number(tm) for {p.name} (#{p.e_id}): {scobility_overall:0.3f}')\n",
    "if coefs[1] > 0:\n",
    "    print(f'>>> You outperform your peers on harder charts. (m = {coefs[1]:0.3f})')\n",
    "else:\n",
    "    print(f'>>> You outperform your peers on easier charts. (m = {coefs[1]:0.3f})')\n",
    "\n",
    "print(f'\\nTop 5 Best Scores for {p.name} (#{p.e_id}):')\n",
    "for s, v in reversed(p_ranking[-5:]):\n",
    "    print(f'{p.scores[s.s_id].value*0.01:5.2f}% on {s} (Quality parameter: {v:0.3f})')\n",
    "print(f'\\nTop 5 Improvement Opportunities for {p.name} (#{p.e_id}):')\n",
    "for s, v in p_ranking[:5]:\n",
    "    print(f'{p.scores[s.s_id].value*0.01:5.2f}% on {s} (Quality parameter: {v:0.3f})')"
   ]
  },
  {
   "cell_type": "code",
   "execution_count": null,
   "metadata": {},
   "outputs": [],
   "source": [
    "for i, p in itl.players.items():\n",
    "    if 'Viva' in p.name:\n",
    "        print(f'{i}: {p.name}')"
   ]
  },
  {
   "cell_type": "code",
   "execution_count": null,
   "metadata": {},
   "outputs": [],
   "source": [
    "check_ends = 5\n",
    "rel_ends = []\n",
    "for s_lo in ordering_rev[1:check_ends]:\n",
    "    for s_hi in ordering_rev[-check_ends:-1]:\n",
    "        r = itl.relationship_lookup(s_lo, s_hi, allow_link=True)\n",
    "        print(r)\n",
    "        rel_ends.append(r)"
   ]
  },
  {
   "cell_type": "code",
   "execution_count": null,
   "metadata": {},
   "outputs": [],
   "source": [
    "def quick_plot(r: Relationship):\n",
    "    x_scores = [r.x.scores[e_id].value for e_id in r.e_common]\n",
    "    y_scores = [r.y.scores[e_id].value for e_id in r.e_common]\n",
    "\n",
    "    ex_matrix = 1 - np.vstack([x_scores, y_scores]) * Relationship.SCORE_SCALAR\n",
    "\n",
    "    screen_max_neg = np.amax(ex_matrix, axis=0)\n",
    "    screen_min_neg = np.amin(ex_matrix, axis=0)\n",
    "\n",
    "    ex_matrix_screen = ex_matrix[:, np.logical_and(\n",
    "        ex_matrix[0, :] < 0.10,\n",
    "        ex_matrix[1, :] < 0.20,\n",
    "        screen_min_neg > Relationship.MIN_NEG_LIMIT\n",
    "    )]\n",
    "\n",
    "    x_all = ex_matrix_screen[0, :]\n",
    "    y_all = ex_matrix_screen[1, :]\n",
    "\n",
    "    plt.scatter(x_all, y_all)\n",
    "    plt.show()\n",
    "\n",
    "quick_plot(rel_ends[5])"
   ]
  },
  {
   "cell_type": "code",
   "execution_count": null,
   "metadata": {},
   "outputs": [],
   "source": [
    "v = [chr(v + ord('A')) for v in range(5)]\n",
    "\n",
    "load_order = []\n",
    "\n",
    "for i_row, a in enumerate(v):\n",
    "    tri = v[i_row:]\n",
    "    if i_row % 2 == 1:\n",
    "         tri.reverse()\n",
    "    for i_col, b in enumerate(tri):\n",
    "        load_order.append( (a, b) )\n",
    "\n",
    "load_replacement = [load_order[0]]\n",
    "for prev, next in zip(load_order[:-1], load_order[1:]):\n",
    "    repl = [a != b and b or None for a, b in zip(prev, next)]\n",
    "    load_replacement.append(tuple(repl))\n",
    "\n",
    "print(load_replacement)\n"
   ]
  },
  {
   "cell_type": "code",
   "execution_count": 1,
   "metadata": {},
   "outputs": [
    {
     "name": "stdout",
     "output_type": "stream",
     "text": [
      "[['A', 'B', 'C'], ['D', 'E', 'F'], ['G', 'H', 'I'], ['J', 'K', 'L'], ['M', 'N', 'O'], ['P', 'Q', 'R'], ['S', 'T', 'U'], ['V', 'W', 'X'], ['Y', 'Z']]\n",
      "[(0, 1), (None, 2), (None, 3), (None, 4), (None, 5), (None, 6), (None, 7), (None, 8), (1, None), (None, 7), (None, 6), (None, 5), (None, 4), (None, 3), (None, 2), (2, 3), (None, 4), (None, 5), (None, 6), (None, 7), (None, 8), (3, None), (None, 7), (None, 6), (None, 5), (None, 4), (4, 5), (None, 6), (None, 7), (None, 8), (5, None), (None, 7), (None, 6), (6, 7), (None, 8), (7, None)]\n"
     ]
    }
   ],
   "source": [
    "_PARTITION_SIZE = 3\n",
    "_TOTAL_LENGTH = 26\n",
    "_EXCLUDE_DIAGONAL = True\n",
    "_EXPLICIT_PAIRS = False\n",
    "\n",
    "v = [chr(v + ord('A')) for v in range(_TOTAL_LENGTH)]\n",
    "v_part = [v[i:i+_PARTITION_SIZE] for i in range(0, _TOTAL_LENGTH, _PARTITION_SIZE)]\n",
    "print(v_part)\n",
    "\n",
    "load_order = []\n",
    "\n",
    "load_replacement = []\n",
    "exc_diag = _EXCLUDE_DIAGONAL and 1 or 0\n",
    "for i_row in range(0, len(v_part), 2):\n",
    "    # (i, i) --> (i, n)\n",
    "    for i_col in range(i_row + exc_diag, len(v_part)):\n",
    "        if _EXPLICIT_PAIRS or (i_col == i_row + exc_diag):\n",
    "            load_replacement.append( (i_row, i_col) )\n",
    "        else:\n",
    "            load_replacement.append( (None, i_col) )\n",
    "\n",
    "    # (i+1, i+1) <-- (i+1, n)\n",
    "    if i_row + 1 >= len(v_part):\n",
    "        break\n",
    "    for i_col in range(len(v_part) - 1, i_row + exc_diag, -1):\n",
    "        if i_col == len(v_part) - 1:\n",
    "            load_replacement.append( (i_row + 1, _EXPLICIT_PAIRS and i_col or None) )\n",
    "        else:\n",
    "            load_replacement.append( (_EXPLICIT_PAIRS and (i_row + 1) or None, i_col) )\n",
    "\n",
    "print(load_replacement)"
   ]
  }
 ],
 "metadata": {
  "interpreter": {
   "hash": "ad591a7912bf18f1beae865b0f14454c03ff05fe45c5918a2edf17c8adcefbea"
  },
  "kernelspec": {
   "display_name": "Python 3.7.9 ('Notebooks-9n88m3ta')",
   "language": "python",
   "name": "python3"
  },
  "language_info": {
   "codemirror_mode": {
    "name": "ipython",
    "version": 3
   },
   "file_extension": ".py",
   "mimetype": "text/x-python",
   "name": "python",
   "nbconvert_exporter": "python",
   "pygments_lexer": "ipython3",
   "version": "3.9.1"
  },
  "orig_nbformat": 4
 },
 "nbformat": 4,
 "nbformat_minor": 2
}
