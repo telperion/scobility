{
 "cells": [
  {
   "cell_type": "code",
   "execution_count": null,
   "metadata": {},
   "outputs": [],
   "source": [
    "import json\n",
    "from dataclasses import dataclass, field, asdict\n",
    "\n",
    "@dataclass\n",
    "class ITLPerformance:\n",
    "    e_id: int = -1\n",
    "    name: str = \"\"\n",
    "    scobility: int = 0\n",
    "    comfort_zone: int = 0\n",
    "    charts_played: int = 0\n",
    "\n",
    "@dataclass\n",
    "class ITLEntrant:\n",
    "    itl2022: ITLPerformance = field(default_factory=ITLPerformance)\n",
    "    itl2023: ITLPerformance = field(default_factory=ITLPerformance)\n",
    "\n",
    "with open(\"scobility_itl2022.json\", \"r\") as fp:\n",
    "    itl2022_data = json.load(fp)\n",
    "    \n",
    "with open(\"scobility_itl2023_20230926.json\", \"r\") as fp:\n",
    "    itl2023_data = json.load(fp)"
   ]
  },
  {
   "cell_type": "code",
   "execution_count": null,
   "metadata": {},
   "outputs": [],
   "source": [
    "itl2022_data['players']"
   ]
  },
  {
   "cell_type": "code",
   "execution_count": null,
   "metadata": {},
   "outputs": [],
   "source": [
    "from collections import defaultdict\n",
    "\n",
    "# GS id -> performances\n",
    "entrants = {}\n",
    "\n",
    "data = {\n",
    "    \"itl2022\": itl2022_data,\n",
    "    \"itl2023\": itl2023_data\n",
    "}\n",
    "for year in [\"itl2022\", \"itl2023\"]:\n",
    "    entrant_song_counts = defaultdict(set)\n",
    "\n",
    "    n_songs = len(data[year]['songs'])\n",
    "    for s in data[year]['scores']:\n",
    "        entrant_song_counts[s['e_id']].add(s['s_id'])\n",
    "\n",
    "    for p in data[year]['players']:\n",
    "        player_data = ITLEntrant()\n",
    "        if p['g_id'] in entrants:\n",
    "            player_data = entrants[p['g_id']]\n",
    "        getattr(player_data, year).e_id = p['e_id']\n",
    "        getattr(player_data, year).name = p['name']\n",
    "        getattr(player_data, year).scobility = p['scobility']\n",
    "        getattr(player_data, year).comfort_zone = p['comfort_zone']\n",
    "        getattr(player_data, year).charts_played = len(entrant_song_counts[p['e_id']])/n_songs\n",
    "        entrants[p['g_id']] = player_data"
   ]
  },
  {
   "cell_type": "code",
   "execution_count": null,
   "metadata": {},
   "outputs": [],
   "source": [
    "entrants"
   ]
  },
  {
   "cell_type": "code",
   "execution_count": null,
   "metadata": {},
   "outputs": [],
   "source": [
    "asdict(entrants[1])"
   ]
  },
  {
   "cell_type": "code",
   "execution_count": null,
   "metadata": {},
   "outputs": [],
   "source": [
    "import csv\n",
    "\n",
    "with open(\"scobility_combine.csv\", 'w', newline='') as fp:\n",
    "    fieldnames = ['groovestats_id']\n",
    "    entrant_objects = {k: {'groovestats_id': k} for k in entrants.keys()}\n",
    "    for year in ['itl2022', 'itl2023']:\n",
    "        fieldnames += [year + '_' + fn for fn in ['name', 'scobility', 'comfort_zone', 'charts_played']]\n",
    "        for k, v in entrants.items():\n",
    "            d = asdict(v)\n",
    "            for fn in ['name', 'scobility', 'comfort_zone', 'charts_played']:\n",
    "                entrant_objects[k][year + '_' + fn] = d[year][fn]\n",
    "    writer = csv.DictWriter(fp, fieldnames=fieldnames)\n",
    "    writer.writeheader()\n",
    "    for k, v in entrant_objects.items():\n",
    "        writer.writerow(v)"
   ]
  }
 ],
 "metadata": {
  "interpreter": {
   "hash": "d37f3fb7e44e5043151cfeeeeb26c4dc1eced2e6e128533299704562dd693bb2"
  },
  "kernelspec": {
   "display_name": "Python 3.9.1 64-bit ('scobility-Dqmn35Dz': pipenv)",
   "language": "python",
   "name": "python3"
  },
  "language_info": {
   "codemirror_mode": {
    "name": "ipython",
    "version": 3
   },
   "file_extension": ".py",
   "mimetype": "text/x-python",
   "name": "python",
   "nbconvert_exporter": "python",
   "pygments_lexer": "ipython3",
   "version": "3.9.1"
  },
  "orig_nbformat": 4
 },
 "nbformat": 4,
 "nbformat_minor": 2
}
